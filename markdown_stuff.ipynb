{
 "cells": [
  {
   "cell_type": "markdown",
   "id": "12c2af3d-11ac-419e-83db-09b57f225a78",
   "metadata": {},
   "source": [
    "# markdown stuff\n",
    "1. *one asterisks* italisizes texts\n",
    "2. **two asterisks** bolds texts\n",
    "3. ***three asterisks*** bolds italisized texts\n",
    "\n",
    "[Workshop website](https://nclrse-training.github.io/2024-07-30-NCL/)\n",
    "\n",
    "![](https://carpentries.github.io/lesson-example/assets/img/cp-logo-blue.svg)\n",
    "\n",
    "git log: gives you a list of all commits\n",
    "git log -n : shows the last n logs\n",
    "\n",
    "git diff filename: shows what has been changed on the file\n",
    "\n",
    "git also keeps track of hidden files\n",
    "\n",
    "touch dirname to create a directory/file\n",
    "cat dirname to display what's inside the dir/file\n",
    "\n"
   ]
  },
  {
   "cell_type": "code",
   "execution_count": null,
   "id": "facf41bf-81da-4846-a179-1483f886b8a7",
   "metadata": {},
   "outputs": [],
   "source": []
  },
  {
   "cell_type": "code",
   "execution_count": null,
   "id": "14275fe0-61d8-4c4e-9df7-979d453f976e",
   "metadata": {},
   "outputs": [],
   "source": []
  }
 ],
 "metadata": {
  "kernelspec": {
   "display_name": "Python 3 (ipykernel)",
   "language": "python",
   "name": "python3"
  },
  "language_info": {
   "codemirror_mode": {
    "name": "ipython",
    "version": 3
   },
   "file_extension": ".py",
   "mimetype": "text/x-python",
   "name": "python",
   "nbconvert_exporter": "python",
   "pygments_lexer": "ipython3",
   "version": "3.10.10"
  }
 },
 "nbformat": 4,
 "nbformat_minor": 5
}
